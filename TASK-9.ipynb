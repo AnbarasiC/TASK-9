{
 "cells": [
  {
   "cell_type": "code",
   "execution_count": 3,
   "id": "ed8db9e7",
   "metadata": {},
   "outputs": [
    {
     "name": "stdout",
     "output_type": "stream",
     "text": [
      "[10, 501, 22, 37, 100, 999, 87, 351]\n"
     ]
    }
   ],
   "source": [
    "\"\"\" 1. What is the expected output of the following Python code given below-\n",
    "data = [10, 501, 22, 37, 100, 999, 87, 351]\n",
    "result = filter(lambda x: x > 4, data)\n",
    "print(list(result))\"\"\"\n",
    "\n",
    "data = [10, 501, 22, 37, 100, 999, 87, 351]\n",
    "result = filter(lambda x: x > 4, data)\n",
    "print(list(result))"
   ]
  },
  {
   "cell_type": "code",
   "execution_count": 21,
   "id": "ae4b8fde",
   "metadata": {},
   "outputs": [
    {
     "name": "stdout",
     "output_type": "stream",
     "text": [
      "True\n"
     ]
    }
   ],
   "source": [
    "# 2. Write a Python code using Lambda function to check every element of a List is an Integer or String?\n",
    "\n",
    "my_list = [1, 'two', 3, 'four', 5]\n",
    "\n",
    "check_type = lambda x: isinstance(x, (int, str))\n",
    "\n",
    "result = all(map(check_type, my_list))\n",
    "print(result)"
   ]
  },
  {
   "cell_type": "code",
   "execution_count": 13,
   "id": "15a4ae2e",
   "metadata": {},
   "outputs": [
    {
     "name": "stdout",
     "output_type": "stream",
     "text": [
      "[0, 1, 1, 2, 3, 5, 8, 13, 21, 34, 55, 89, 144, 233, 377, 610, 987, 1597, 2584, 4181, 6765, 10946, 17711, 28657, 46368, 75025, 121393, 196418, 317811, 514229, 832040, 1346269, 2178309, 3524578, 5702887, 9227465, 14930352, 24157817, 39088169, 63245986, 102334155, 165580141, 267914296, 433494437, 701408733, 1134903170, 1836311903, 2971215073, 4807526976, 7778742049]\n"
     ]
    }
   ],
   "source": [
    "# 3. Using the Python Lambda function create a Fibonacci series from 1 to 50 elements?\n",
    "\n",
    "def fibonacci(n):\n",
    "    fib_list = [0, 1]\n",
    "    while len(fib_list) < n:\n",
    "        fib_list.append(fib_list[-1] + fib_list[-2])\n",
    "    return fib_list\n",
    "\n",
    "fib_series = fibonacci(50)\n",
    "print(fib_series)"
   ]
  },
  {
   "cell_type": "code",
   "execution_count": 19,
   "id": "26c25809",
   "metadata": {},
   "outputs": [
    {
     "name": "stdout",
     "output_type": "stream",
     "text": [
      "True\n",
      "True\n",
      "True\n",
      "True\n"
     ]
    }
   ],
   "source": [
    "\"\"\" 4. Write a Python function to validate the Regular Expression for the following-\n",
    "\n",
    "a) Email Address\n",
    "b) Mobile numbers of Bangladesh\n",
    "c) Telephone numbers of USA\n",
    "d) 16 character Alpha-Numeric password composed of alphabets of Upper Case, Lower Case, Special Characters, Numbers.\"\"\"\n",
    "\n",
    "import re\n",
    "\n",
    "def validate_email(email):\n",
    "    pattern = r'^[a-zA-Z0-9_.+-]+@[a-zA-Z0-9-]+\\.[a-zA-Z0-9-.]+$'\n",
    "    return bool(re.match(pattern, email))\n",
    "\n",
    "def validate_bangladesh_mobile_number(number):\n",
    "    pattern = r'^\\+880-1[1-9]\\d{8}$'\n",
    "    return bool(re.match(pattern, number))\n",
    "\n",
    "def validate_usa_telephone_number(number):\n",
    "    pattern = r'^\\d{3}-\\d{3}-\\d{4}$'\n",
    "    return bool(re.match(pattern, number))\n",
    "\n",
    "def validate_password(password):\n",
    "    pattern = r'^(?=.*[a-z])(?=.*[A-Z])(?=.*\\d)(?=.*[@$!%*?&])[A-Za-z\\d@$!%*?&]{16}$'\n",
    "    return bool(re.match(pattern, password))\n",
    "\n",
    "print(validate_email('example@example.com'))\n",
    "print(validate_bangladesh_mobile_number('+880-1712345678'))\n",
    "print(validate_usa_telephone_number('123-456-7890'))\n",
    "print(validate_password('Akjdkfk231w2@$%&'))"
   ]
  }
 ],
 "metadata": {
  "kernelspec": {
   "display_name": "Python 3 (ipykernel)",
   "language": "python",
   "name": "python3"
  },
  "language_info": {
   "codemirror_mode": {
    "name": "ipython",
    "version": 3
   },
   "file_extension": ".py",
   "mimetype": "text/x-python",
   "name": "python",
   "nbconvert_exporter": "python",
   "pygments_lexer": "ipython3",
   "version": "3.11.4"
  }
 },
 "nbformat": 4,
 "nbformat_minor": 5
}
